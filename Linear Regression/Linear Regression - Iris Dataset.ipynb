{
 "cells": [
  {
   "cell_type": "markdown",
   "metadata": {},
   "source": [
    "## Linear Regression - Iris Data"
   ]
  },
  {
   "cell_type": "markdown",
   "metadata": {},
   "source": [
    "<style>\n",
    "    body {\n",
    "        font-family: \"Times New Roman\", serif;\n",
    "    }\n",
    "</style>\n",
    "\n",
    "### __Dataset Information__\n",
    "> #### __Context__\n",
    "&nbsp;&nbsp;&nbsp;&nbsp; Based on Fisher's linear discriminant model, this data set became a typical test case for many statistical classification techniques in machine learning such as support vector machines.\n"
   ]
  },
  {
   "cell_type": "markdown",
   "metadata": {},
   "source": [
    "<style>\n",
    "    body {\n",
    "        font-family: \"Times New Roman\", serif;\n",
    "    }\n",
    "</style>\n",
    "\n",
    "> ### __Content__\n",
    " &nbsp;&nbsp;&nbsp;&nbsp; The __Iris flower data set__ or __Fisher's Iris data set__ is a multivariate data set introduced by the British statistician and biologist __Ronald Fisher__ in his 1936 paper *The use of multiple measurements in taxonomic problems* as an example of linear discriminant analysis.[1] It is sometimes called Anderson's Iris data set because Edgar Anderson collected the data to quantify the morphologic variation of Iris flowers of three related species.[2] Two of the three species were collected in the Gaspé Peninsula \"all from the same pasture, and picked on the same day and measured at the same time by the same person with the same apparatus\".\n",
    "\n",
    " &nbsp;&nbsp;&nbsp;&nbsp; The data set consists of __50 samples__ from each of three species of Iris (Iris setosa, Iris virginica, and Iris versicolor). Four features were measured from each sample: the length and the width of the sepals and petals, in centimetres. Based on the combination of these four features, Fisher developed a linear discriminant model to distinguish the species from each other."
   ]
  },
  {
   "cell_type": "markdown",
   "metadata": {},
   "source": [
    "### Step 1: Data Preprocessing\n",
    "The analysis begins by importing essential libraries for data manipulation, visualization, and machine learning. This includes __Pandas__ for data manipulation, __Matplotlib__ and __Seaborn__ for visualization, and __Scikit-Learn__ for model building."
   ]
  },
  {
   "cell_type": "markdown",
   "metadata": {},
   "source": [
    "### Importing Dataset"
   ]
  },
  {
   "cell_type": "code",
   "execution_count": 305,
   "metadata": {},
   "outputs": [],
   "source": [
    "import pandas as pd\n",
    "import numpy as np\n",
    "from sklearn.model_selection import train_test_split\n",
    "from sklearn.preprocessing import StandardScaler\n",
    "from sklearn.linear_model import LinearRegression\n",
    "from sklearn.metrics import mean_squared_error, r2_score\n",
    "import seaborn as sns\n",
    "import matplotlib.pyplot as plt"
   ]
  },
  {
   "cell_type": "markdown",
   "metadata": {},
   "source": [
    "### Step 2: Load the Dataset\n",
    "Load the Iris dataset, which contains information on 150 iris flowers from three species: Setosa, Versicolor, and Virginica. Each sample includes four features: sepal length, sepal width, petal length, and petal width."
   ]
  },
  {
   "cell_type": "code",
   "execution_count": 306,
   "metadata": {},
   "outputs": [],
   "source": [
    "file_path = r'C:\\Users\\HP\\Downloads\\IrisData.csv'\n",
    "dataset = pd.read_csv(file_path)"
   ]
  },
  {
   "cell_type": "code",
   "execution_count": 307,
   "metadata": {},
   "outputs": [
    {
     "data": {
      "text/html": [
       "<div>\n",
       "<style scoped>\n",
       "    .dataframe tbody tr th:only-of-type {\n",
       "        vertical-align: middle;\n",
       "    }\n",
       "\n",
       "    .dataframe tbody tr th {\n",
       "        vertical-align: top;\n",
       "    }\n",
       "\n",
       "    .dataframe thead th {\n",
       "        text-align: right;\n",
       "    }\n",
       "</style>\n",
       "<table border=\"1\" class=\"dataframe\">\n",
       "  <thead>\n",
       "    <tr style=\"text-align: right;\">\n",
       "      <th></th>\n",
       "      <th>5.1</th>\n",
       "      <th>3.5</th>\n",
       "      <th>1.4</th>\n",
       "      <th>0.2</th>\n",
       "      <th>Iris-setosa</th>\n",
       "    </tr>\n",
       "  </thead>\n",
       "  <tbody>\n",
       "    <tr>\n",
       "      <th>0</th>\n",
       "      <td>4.9</td>\n",
       "      <td>3.0</td>\n",
       "      <td>1.4</td>\n",
       "      <td>0.2</td>\n",
       "      <td>Iris-setosa</td>\n",
       "    </tr>\n",
       "    <tr>\n",
       "      <th>1</th>\n",
       "      <td>4.7</td>\n",
       "      <td>3.2</td>\n",
       "      <td>1.3</td>\n",
       "      <td>0.2</td>\n",
       "      <td>Iris-setosa</td>\n",
       "    </tr>\n",
       "    <tr>\n",
       "      <th>2</th>\n",
       "      <td>4.6</td>\n",
       "      <td>3.1</td>\n",
       "      <td>1.5</td>\n",
       "      <td>0.2</td>\n",
       "      <td>Iris-setosa</td>\n",
       "    </tr>\n",
       "    <tr>\n",
       "      <th>3</th>\n",
       "      <td>5.0</td>\n",
       "      <td>3.6</td>\n",
       "      <td>1.4</td>\n",
       "      <td>0.2</td>\n",
       "      <td>Iris-setosa</td>\n",
       "    </tr>\n",
       "    <tr>\n",
       "      <th>4</th>\n",
       "      <td>5.4</td>\n",
       "      <td>3.9</td>\n",
       "      <td>1.7</td>\n",
       "      <td>0.4</td>\n",
       "      <td>Iris-setosa</td>\n",
       "    </tr>\n",
       "    <tr>\n",
       "      <th>5</th>\n",
       "      <td>4.6</td>\n",
       "      <td>3.4</td>\n",
       "      <td>1.4</td>\n",
       "      <td>0.3</td>\n",
       "      <td>Iris-setosa</td>\n",
       "    </tr>\n",
       "    <tr>\n",
       "      <th>6</th>\n",
       "      <td>5.0</td>\n",
       "      <td>3.4</td>\n",
       "      <td>1.5</td>\n",
       "      <td>0.2</td>\n",
       "      <td>Iris-setosa</td>\n",
       "    </tr>\n",
       "    <tr>\n",
       "      <th>7</th>\n",
       "      <td>4.4</td>\n",
       "      <td>2.9</td>\n",
       "      <td>1.4</td>\n",
       "      <td>0.2</td>\n",
       "      <td>Iris-setosa</td>\n",
       "    </tr>\n",
       "    <tr>\n",
       "      <th>8</th>\n",
       "      <td>4.9</td>\n",
       "      <td>3.1</td>\n",
       "      <td>1.5</td>\n",
       "      <td>0.1</td>\n",
       "      <td>Iris-setosa</td>\n",
       "    </tr>\n",
       "    <tr>\n",
       "      <th>9</th>\n",
       "      <td>5.4</td>\n",
       "      <td>3.7</td>\n",
       "      <td>1.5</td>\n",
       "      <td>0.2</td>\n",
       "      <td>Iris-setosa</td>\n",
       "    </tr>\n",
       "  </tbody>\n",
       "</table>\n",
       "</div>"
      ],
      "text/plain": [
       "   5.1  3.5  1.4  0.2  Iris-setosa\n",
       "0  4.9  3.0  1.4  0.2  Iris-setosa\n",
       "1  4.7  3.2  1.3  0.2  Iris-setosa\n",
       "2  4.6  3.1  1.5  0.2  Iris-setosa\n",
       "3  5.0  3.6  1.4  0.2  Iris-setosa\n",
       "4  5.4  3.9  1.7  0.4  Iris-setosa\n",
       "5  4.6  3.4  1.4  0.3  Iris-setosa\n",
       "6  5.0  3.4  1.5  0.2  Iris-setosa\n",
       "7  4.4  2.9  1.4  0.2  Iris-setosa\n",
       "8  4.9  3.1  1.5  0.1  Iris-setosa\n",
       "9  5.4  3.7  1.5  0.2  Iris-setosa"
      ]
     },
     "execution_count": 307,
     "metadata": {},
     "output_type": "execute_result"
    }
   ],
   "source": [
    "dataset.head(10)"
   ]
  },
  {
   "cell_type": "markdown",
   "metadata": {},
   "source": [
    "#### Loading dataset (assuming it's a CSV file named 'IrisData.csv')"
   ]
  },
  {
   "cell_type": "code",
   "execution_count": 308,
   "metadata": {},
   "outputs": [],
   "source": [
    "iris_data = pd.read_csv('IrisData.csv', header=None)"
   ]
  },
  {
   "cell_type": "markdown",
   "metadata": {},
   "source": [
    "### Step 3: Labeling and Rearrangement of dataset\n",
    "Labelling the dataset to easily identify the data of every columns. Also rearranging it by putting the __Dependent Variable__ in the last column."
   ]
  },
  {
   "cell_type": "markdown",
   "metadata": {},
   "source": [
    "#### Putting column labels"
   ]
  },
  {
   "cell_type": "code",
   "execution_count": 309,
   "metadata": {},
   "outputs": [],
   "source": [
    "iris_data.columns = ['sepal_length', 'sepal_width', 'petal_length', 'petal_width', 'species']"
   ]
  },
  {
   "cell_type": "markdown",
   "metadata": {},
   "source": [
    "#### Rearrangement of columns so that 'petal_length' is moved to the last position"
   ]
  },
  {
   "cell_type": "code",
   "execution_count": 310,
   "metadata": {},
   "outputs": [],
   "source": [
    "cols = ['sepal_length', 'sepal_width', 'petal_width', 'species', 'petal_length']\n",
    "rearranged_iris_data = iris_data[cols]"
   ]
  },
  {
   "cell_type": "markdown",
   "metadata": {},
   "source": [
    "#### Save the rearranged dataset to a new CSV file if needed"
   ]
  },
  {
   "cell_type": "code",
   "execution_count": 311,
   "metadata": {},
   "outputs": [],
   "source": [
    "rearranged_iris_data.to_csv('Rearranged_IrisData.csv', index=False)"
   ]
  },
  {
   "cell_type": "markdown",
   "metadata": {},
   "source": [
    "#### Rearrangement and First row Label Display"
   ]
  },
  {
   "cell_type": "code",
   "execution_count": 312,
   "metadata": {},
   "outputs": [
    {
     "data": {
      "text/html": [
       "<div>\n",
       "<style scoped>\n",
       "    .dataframe tbody tr th:only-of-type {\n",
       "        vertical-align: middle;\n",
       "    }\n",
       "\n",
       "    .dataframe tbody tr th {\n",
       "        vertical-align: top;\n",
       "    }\n",
       "\n",
       "    .dataframe thead th {\n",
       "        text-align: right;\n",
       "    }\n",
       "</style>\n",
       "<table border=\"1\" class=\"dataframe\">\n",
       "  <thead>\n",
       "    <tr style=\"text-align: right;\">\n",
       "      <th></th>\n",
       "      <th>sepal_length</th>\n",
       "      <th>sepal_width</th>\n",
       "      <th>petal_width</th>\n",
       "      <th>species</th>\n",
       "      <th>petal_length</th>\n",
       "    </tr>\n",
       "  </thead>\n",
       "  <tbody>\n",
       "    <tr>\n",
       "      <th>0</th>\n",
       "      <td>5.1</td>\n",
       "      <td>3.5</td>\n",
       "      <td>0.2</td>\n",
       "      <td>Iris-setosa</td>\n",
       "      <td>1.4</td>\n",
       "    </tr>\n",
       "    <tr>\n",
       "      <th>1</th>\n",
       "      <td>4.9</td>\n",
       "      <td>3.0</td>\n",
       "      <td>0.2</td>\n",
       "      <td>Iris-setosa</td>\n",
       "      <td>1.4</td>\n",
       "    </tr>\n",
       "    <tr>\n",
       "      <th>2</th>\n",
       "      <td>4.7</td>\n",
       "      <td>3.2</td>\n",
       "      <td>0.2</td>\n",
       "      <td>Iris-setosa</td>\n",
       "      <td>1.3</td>\n",
       "    </tr>\n",
       "    <tr>\n",
       "      <th>3</th>\n",
       "      <td>4.6</td>\n",
       "      <td>3.1</td>\n",
       "      <td>0.2</td>\n",
       "      <td>Iris-setosa</td>\n",
       "      <td>1.5</td>\n",
       "    </tr>\n",
       "    <tr>\n",
       "      <th>4</th>\n",
       "      <td>5.0</td>\n",
       "      <td>3.6</td>\n",
       "      <td>0.2</td>\n",
       "      <td>Iris-setosa</td>\n",
       "      <td>1.4</td>\n",
       "    </tr>\n",
       "  </tbody>\n",
       "</table>\n",
       "</div>"
      ],
      "text/plain": [
       "   sepal_length  sepal_width  petal_width      species  petal_length\n",
       "0           5.1          3.5          0.2  Iris-setosa           1.4\n",
       "1           4.9          3.0          0.2  Iris-setosa           1.4\n",
       "2           4.7          3.2          0.2  Iris-setosa           1.3\n",
       "3           4.6          3.1          0.2  Iris-setosa           1.5\n",
       "4           5.0          3.6          0.2  Iris-setosa           1.4"
      ]
     },
     "execution_count": 312,
     "metadata": {},
     "output_type": "execute_result"
    }
   ],
   "source": [
    "rearranged_iris_data.head()"
   ]
  },
  {
   "cell_type": "markdown",
   "metadata": {},
   "source": [
    "### Step 4: Data Preprocessing"
   ]
  },
  {
   "cell_type": "markdown",
   "metadata": {},
   "source": [
    " __Check for missing values:__ Use .isnull().sum() to verify the data integrity."
   ]
  },
  {
   "cell_type": "code",
   "execution_count": 313,
   "metadata": {},
   "outputs": [
    {
     "data": {
      "text/plain": [
       "sepal_length    0\n",
       "sepal_width     0\n",
       "petal_length    0\n",
       "petal_width     0\n",
       "species         0\n",
       "dtype: int64"
      ]
     },
     "execution_count": 313,
     "metadata": {},
     "output_type": "execute_result"
    }
   ],
   "source": [
    "iris_data.isnull().sum()"
   ]
  },
  {
   "cell_type": "markdown",
   "metadata": {},
   "source": [
    "#### __Data Preprocessing:__ Handle outliers (example: using Z-score method)"
   ]
  },
  {
   "cell_type": "code",
   "execution_count": 314,
   "metadata": {},
   "outputs": [],
   "source": [
    "from scipy import stats\n",
    "z_scores = np.abs(stats.zscore(iris_data.select_dtypes(include=[np.number])))\n",
    "iris_data = iris_data[(z_scores < 3).all(axis=1)]  # Keep rows where all Z-scores are less than 3"
   ]
  },
  {
   "cell_type": "markdown",
   "metadata": {},
   "source": [
    "### Step 5: Feature Selection and Splitting Data\n",
    "Select features __(independent variables)__ and target label __(dependent variable)__.\n",
    "> #### Independent variables"
   ]
  },
  {
   "cell_type": "code",
   "execution_count": 315,
   "metadata": {},
   "outputs": [],
   "source": [
    "X = iris_data[['sepal_length', 'sepal_width', 'petal_width']]  "
   ]
  },
  {
   "cell_type": "markdown",
   "metadata": {},
   "source": [
    "> #### Dependent variable"
   ]
  },
  {
   "cell_type": "code",
   "execution_count": 316,
   "metadata": {},
   "outputs": [],
   "source": [
    "y = iris_data['petal_length']  "
   ]
  },
  {
   "cell_type": "code",
   "execution_count": 317,
   "metadata": {},
   "outputs": [],
   "source": [
    "scaler = StandardScaler()\n",
    "X_scaled = scaler.fit_transform(X)"
   ]
  },
  {
   "cell_type": "markdown",
   "metadata": {},
   "source": [
    "#### Splitting data into training and testing sets (80% train, 20% test)"
   ]
  },
  {
   "cell_type": "code",
   "execution_count": 318,
   "metadata": {},
   "outputs": [],
   "source": [
    "X_train, X_test, y_train, y_test = train_test_split(X_scaled, y, test_size=0.2, random_state=42)\n",
    "\n"
   ]
  },
  {
   "cell_type": "code",
   "execution_count": 319,
   "metadata": {},
   "outputs": [
    {
     "data": {
      "text/plain": [
       "array([[-0.89892658,  0.60832167, -0.92594675],\n",
       "       [-0.53659999,  2.03947844, -1.05746826],\n",
       "       [-0.29504894, -0.10725672,  0.38926837],\n",
       "       [-1.26125316,  0.8468478 , -1.32051128],\n",
       "       [-1.0197021 ,  1.08537392, -0.79442524],\n",
       "       [-1.14047763, -1.29988735,  0.65231139],\n",
       "       [ 1.27503292,  0.13126941,  0.38926837],\n",
       "       [-0.77815105,  0.8468478 , -1.32051128],\n",
       "       [-1.0197021 ,  1.32390005, -1.32051128],\n",
       "       [-0.41582447,  2.75505682, -1.32051128],\n",
       "       [-0.29504894, -0.58430897,  1.04687592],\n",
       "       [ 1.03348186,  0.13126941,  0.38926837],\n",
       "       [ 0.55037975, -1.77693961,  0.12622534],\n",
       "       [-0.89892658,  1.08537392, -1.18898977],\n",
       "       [-0.53659999,  1.56242618, -1.32051128],\n",
       "       [-0.05349788, -0.8228351 , -0.00529617],\n",
       "       [ 0.55037975, -0.58430897,  0.38926837],\n",
       "       [ 1.15425739,  0.36979554,  1.44144046],\n",
       "       [ 1.15425739, -0.58430897,  0.25774685],\n",
       "       [ 1.6373595 ,  1.32390005,  1.70448348],\n",
       "       [-0.17427341, -0.34578284,  0.12622534],\n",
       "       [ 2.12046161, -0.10725672,  1.17839744],\n",
       "       [-0.05349788, -0.8228351 , -0.26833919],\n",
       "       [-0.89892658,  1.08537392, -1.32051128],\n",
       "       [-0.05349788, -0.8228351 ,  0.91535441],\n",
       "       [ 0.42960422, -2.01546574,  0.38926837],\n",
       "       [-1.38202868,  0.36979554, -1.32051128],\n",
       "       [-1.62357974, -1.77693961, -1.18898977],\n",
       "       [-1.26125316, -0.10725672, -1.18898977],\n",
       "       [ 0.06727764, -0.10725672,  0.38926837],\n",
       "       [ 0.55037975, -0.8228351 ,  0.7838329 ],\n",
       "       [-1.0197021 , -0.10725672, -1.32051128],\n",
       "       [-1.0197021 ,  0.8468478 , -1.05746826],\n",
       "       [-1.26125316,  0.8468478 , -1.32051128],\n",
       "       [-0.29504894, -0.8228351 ,  0.12622534],\n",
       "       [-1.0197021 ,  1.08537392, -1.18898977],\n",
       "       [-0.17427341, -0.10725672, -0.00529617],\n",
       "       [ 1.27503292,  0.13126941,  1.17839744],\n",
       "       [-0.65737552,  1.56242618, -1.32051128],\n",
       "       [ 0.42960422, -0.34578284,  0.12622534],\n",
       "       [-0.17427341, -1.29988735,  1.04687592],\n",
       "       [-1.14047763,  0.13126941, -1.45203279],\n",
       "       [-0.17427341, -0.58430897,  0.12622534],\n",
       "       [ 0.55037975, -1.29988735,  0.91535441],\n",
       "       [ 0.3088287 , -0.34578284,  0.25774685],\n",
       "       [ 0.18805317,  0.8468478 ,  0.52078988],\n",
       "       [ 1.27503292,  0.36979554,  1.44144046],\n",
       "       [ 0.79193081, -0.58430897,  0.38926837],\n",
       "       [-0.53659999,  2.03947844, -1.05746826],\n",
       "       [ 0.42960422,  0.8468478 ,  1.44144046],\n",
       "       [ 0.18805317, -0.10725672,  0.7838329 ],\n",
       "       [ 1.39580844,  0.36979554,  0.25774685],\n",
       "       [-0.41582447,  1.08537392, -1.32051128],\n",
       "       [-0.41582447, -1.53841348, -0.26833919],\n",
       "       [ 0.18805317, -0.34578284,  0.38926837],\n",
       "       [-1.0197021 ,  0.36979554, -1.32051128],\n",
       "       [-0.05349788, -0.58430897,  1.57296197],\n",
       "       [-1.0197021 ,  0.8468478 , -1.32051128],\n",
       "       [-0.89892658,  1.80095231, -1.05746826],\n",
       "       [ 0.3088287 , -0.58430897,  0.12622534],\n",
       "       [-0.89892658, -1.29988735, -0.13681768],\n",
       "       [-0.53659999, -0.10725672,  0.38926837],\n",
       "       [ 0.3088287 , -1.06136123,  0.25774685],\n",
       "       [ 2.24123713, -0.10725672,  1.44144046],\n",
       "       [-0.41582447, -1.06136123, -0.00529617],\n",
       "       [-1.74435527, -0.34578284, -1.32051128],\n",
       "       [-1.86513079, -0.10725672, -1.45203279],\n",
       "       [ 0.18805317, -2.01546574,  0.38926837],\n",
       "       [ 0.3088287 , -0.10725672,  0.7838329 ],\n",
       "       [-1.50280421,  0.13126941, -1.32051128],\n",
       "       [-0.17427341,  1.80095231, -1.18898977],\n",
       "       [-0.89892658,  0.8468478 , -1.32051128],\n",
       "       [ 0.3088287 , -0.58430897, -0.00529617],\n",
       "       [ 0.55037975,  0.8468478 ,  1.57296197],\n",
       "       [-1.50280421,  0.8468478 , -1.18898977],\n",
       "       [ 1.15425739, -0.10725672,  1.17839744],\n",
       "       [-0.05349788, -0.8228351 ,  0.91535441],\n",
       "       [-1.38202868,  0.36979554, -1.32051128],\n",
       "       [-0.29504894, -0.34578284,  0.12622534],\n",
       "       [-0.17427341, -0.58430897,  0.12622534],\n",
       "       [ 0.42960422, -0.58430897,  0.7838329 ],\n",
       "       [ 0.67115528,  0.36979554,  0.38926837],\n",
       "       [ 0.67115528,  0.36979554,  1.44144046],\n",
       "       [-1.50280421,  0.36979554, -1.32051128],\n",
       "       [ 0.79193081, -0.10725672,  0.7838329 ],\n",
       "       [ 0.18805317, -2.01546574, -0.26833919],\n",
       "       [ 0.79193081, -0.10725672,  1.04687592],\n",
       "       [-0.41582447, -1.53841348, -0.13681768],\n",
       "       [-1.0197021 , -2.49251799, -0.26833919],\n",
       "       [-0.05349788, -1.06136123, -0.00529617],\n",
       "       [-1.74435527,  0.36979554, -1.32051128],\n",
       "       [-0.77815105, -0.8228351 ,  0.25774685],\n",
       "       [ 0.3088287 , -0.10725672,  0.25774685],\n",
       "       [-1.0197021 ,  0.60832167, -1.32051128],\n",
       "       [-0.41582447, -1.29988735,  0.12622534],\n",
       "       [ 1.03348186, -1.29988735,  0.7838329 ],\n",
       "       [ 1.6373595 ,  0.36979554,  0.7838329 ],\n",
       "       [-1.50280421,  1.32390005, -1.32051128],\n",
       "       [ 0.91270633, -0.34578284,  0.12622534],\n",
       "       [ 1.03348186,  0.60832167,  1.70448348],\n",
       "       [ 1.87891055, -0.58430897,  0.91535441],\n",
       "       [-1.74435527, -0.10725672, -1.32051128],\n",
       "       [ 1.03348186,  0.13126941,  1.57296197],\n",
       "       [-1.14047763, -0.10725672, -1.32051128],\n",
       "       [-0.41582447, -1.77693961,  0.12622534],\n",
       "       [ 2.48278819,  1.80095231,  1.04687592],\n",
       "       [ 0.79193081, -0.10725672,  1.30991895],\n",
       "       [ 0.55037975,  0.60832167,  1.70448348],\n",
       "       [ 2.24123713,  1.80095231,  1.30991895],\n",
       "       [-0.29504894, -0.10725672,  0.12622534],\n",
       "       [ 0.91270633, -0.10725672,  0.25774685],\n",
       "       [ 2.24123713, -0.58430897,  1.04687592],\n",
       "       [ 0.06727764, -0.10725672,  0.7838329 ],\n",
       "       [-0.89892658,  1.56242618, -1.05746826],\n",
       "       [ 0.55037975, -1.29988735,  0.38926837],\n",
       "       [ 1.75813502, -0.34578284,  0.7838329 ],\n",
       "       [-0.05349788,  2.27800456, -1.32051128],\n",
       "       [-1.0197021 , -1.77693961, -0.26833919],\n",
       "       [ 0.55037975, -0.34578284,  0.7838329 ]])"
      ]
     },
     "execution_count": 319,
     "metadata": {},
     "output_type": "execute_result"
    }
   ],
   "source": [
    "X_train"
   ]
  },
  {
   "cell_type": "code",
   "execution_count": 320,
   "metadata": {},
   "outputs": [
    {
     "data": {
      "text/plain": [
       "array([[ 0.67115528, -0.34578284,  0.12622534],\n",
       "       [-0.89892658,  1.80095231, -1.18898977],\n",
       "       [ 2.24123713, -1.06136123,  1.44144046],\n",
       "       [-0.17427341, -1.06136123, -0.26833919],\n",
       "       [ 1.03348186, -0.10725672,  0.65231139],\n",
       "       [-0.77815105,  2.51653069, -1.45203279],\n",
       "       [ 1.03348186,  0.13126941,  0.25774685],\n",
       "       [ 1.27503292,  0.13126941,  1.44144046],\n",
       "       [-0.29504894, -1.29988735, -0.13681768],\n",
       "       [ 0.18805317, -0.8228351 ,  0.52078988],\n",
       "       [ 0.79193081,  0.36979554,  1.04687592],\n",
       "       [-1.26125316, -0.10725672, -1.45203279],\n",
       "       [-1.14047763,  0.13126941, -1.45203279],\n",
       "       [-1.14047763,  0.13126941, -1.45203279],\n",
       "       [-0.53659999,  0.8468478 , -1.32051128],\n",
       "       [-1.14047763, -1.53841348, -0.26833919],\n",
       "       [ 0.67115528,  0.13126941,  0.7838329 ],\n",
       "       [ 0.06727764,  0.36979554,  0.7838329 ],\n",
       "       [ 0.55037975,  0.60832167,  0.52078988],\n",
       "       [ 0.67115528, -0.58430897,  1.30991895],\n",
       "       [-1.26125316,  0.13126941, -1.32051128],\n",
       "       [ 1.03348186,  0.60832167,  1.17839744],\n",
       "       [-0.77815105,  1.08537392, -1.32051128],\n",
       "       [ 0.67115528, -0.58430897,  1.17839744],\n",
       "       [ 1.6373595 , -0.10725672,  0.52078988],\n",
       "       [ 1.03348186, -0.10725672,  1.44144046],\n",
       "       [ 0.67115528, -0.8228351 ,  0.91535441],\n",
       "       [ 1.51658397, -0.10725672,  1.17839744],\n",
       "       [-0.89892658,  1.80095231, -1.32051128],\n",
       "       [-0.53659999,  0.8468478 , -1.05746826]])"
      ]
     },
     "execution_count": 320,
     "metadata": {},
     "output_type": "execute_result"
    }
   ],
   "source": [
    "X_test"
   ]
  },
  {
   "cell_type": "code",
   "execution_count": 321,
   "metadata": {},
   "outputs": [
    {
     "data": {
      "text/plain": [
       "23     1.7\n",
       "16     1.3\n",
       "66     4.5\n",
       "11     1.6\n",
       "43     1.6\n",
       "      ... \n",
       "72     4.9\n",
       "107    6.3\n",
       "14     1.2\n",
       "93     3.3\n",
       "103    5.6\n",
       "Name: petal_length, Length: 119, dtype: float64"
      ]
     },
     "execution_count": 321,
     "metadata": {},
     "output_type": "execute_result"
    }
   ],
   "source": [
    "y_train"
   ]
  },
  {
   "cell_type": "code",
   "execution_count": 322,
   "metadata": {},
   "outputs": [
    {
     "data": {
      "text/plain": [
       "74     4.3\n",
       "19     1.5\n",
       "118    6.9\n",
       "79     3.5\n",
       "77     5.0\n",
       "32     1.5\n",
       "65     4.4\n",
       "141    5.1\n",
       "69     3.9\n",
       "83     5.1\n",
       "110    5.1\n",
       "12     1.4\n",
       "37     1.5\n",
       "9      1.5\n",
       "20     1.7\n",
       "57     3.3\n",
       "137    5.5\n",
       "70     4.8\n",
       "56     4.7\n",
       "132    5.6\n",
       "30     1.6\n",
       "124    5.7\n",
       "27     1.5\n",
       "128    5.6\n",
       "129    5.8\n",
       "145    5.2\n",
       "111    5.3\n",
       "102    5.9\n",
       "46     1.6\n",
       "31     1.5\n",
       "Name: petal_length, dtype: float64"
      ]
     },
     "execution_count": 322,
     "metadata": {},
     "output_type": "execute_result"
    }
   ],
   "source": [
    "y_test"
   ]
  },
  {
   "cell_type": "markdown",
   "metadata": {},
   "source": [
    "#### Making the prediction of a single data point with SL = 5.1, SW = 3.5 , PW = 1.0"
   ]
  },
  {
   "cell_type": "code",
   "execution_count": 323,
   "metadata": {},
   "outputs": [
    {
     "name": "stderr",
     "output_type": "stream",
     "text": [
      "c:\\Users\\HP\\AppData\\Local\\Programs\\Python\\Python312\\Lib\\site-packages\\sklearn\\base.py:493: UserWarning: X does not have valid feature names, but StandardScaler was fitted with feature names\n",
      "  warnings.warn(\n"
     ]
    }
   ],
   "source": [
    "single_data_point = np.array([[5.1, 3.5, 1.0]])\n",
    "single_data_point_scaled = scaler.transform(single_data_point)\n",
    "single_prediction = model.predict(single_data_point_scaled)"
   ]
  },
  {
   "cell_type": "code",
   "execution_count": 324,
   "metadata": {},
   "outputs": [
    {
     "name": "stdout",
     "output_type": "stream",
     "text": [
      "The predicted petal length for the input data point is: 2.632340268467631\n"
     ]
    }
   ],
   "source": [
    "print(f\"The predicted petal length for the input data point is: {single_prediction[0]}\")"
   ]
  },
  {
   "cell_type": "markdown",
   "metadata": {},
   "source": [
    "### Step 6: Model Selection and Training"
   ]
  },
  {
   "cell_type": "markdown",
   "metadata": {},
   "source": [
    "#### Create a linear regression model"
   ]
  },
  {
   "cell_type": "code",
   "execution_count": 325,
   "metadata": {},
   "outputs": [],
   "source": [
    "from sklearn.linear_model import LinearRegression\n",
    "model = LinearRegression()"
   ]
  },
  {
   "cell_type": "markdown",
   "metadata": {},
   "source": [
    "#### Train the model"
   ]
  },
  {
   "cell_type": "code",
   "execution_count": 326,
   "metadata": {},
   "outputs": [
    {
     "data": {
      "text/html": [
       "<style>#sk-container-id-8 {\n",
       "  /* Definition of color scheme common for light and dark mode */\n",
       "  --sklearn-color-text: black;\n",
       "  --sklearn-color-line: gray;\n",
       "  /* Definition of color scheme for unfitted estimators */\n",
       "  --sklearn-color-unfitted-level-0: #fff5e6;\n",
       "  --sklearn-color-unfitted-level-1: #f6e4d2;\n",
       "  --sklearn-color-unfitted-level-2: #ffe0b3;\n",
       "  --sklearn-color-unfitted-level-3: chocolate;\n",
       "  /* Definition of color scheme for fitted estimators */\n",
       "  --sklearn-color-fitted-level-0: #f0f8ff;\n",
       "  --sklearn-color-fitted-level-1: #d4ebff;\n",
       "  --sklearn-color-fitted-level-2: #b3dbfd;\n",
       "  --sklearn-color-fitted-level-3: cornflowerblue;\n",
       "\n",
       "  /* Specific color for light theme */\n",
       "  --sklearn-color-text-on-default-background: var(--sg-text-color, var(--theme-code-foreground, var(--jp-content-font-color1, black)));\n",
       "  --sklearn-color-background: var(--sg-background-color, var(--theme-background, var(--jp-layout-color0, white)));\n",
       "  --sklearn-color-border-box: var(--sg-text-color, var(--theme-code-foreground, var(--jp-content-font-color1, black)));\n",
       "  --sklearn-color-icon: #696969;\n",
       "\n",
       "  @media (prefers-color-scheme: dark) {\n",
       "    /* Redefinition of color scheme for dark theme */\n",
       "    --sklearn-color-text-on-default-background: var(--sg-text-color, var(--theme-code-foreground, var(--jp-content-font-color1, white)));\n",
       "    --sklearn-color-background: var(--sg-background-color, var(--theme-background, var(--jp-layout-color0, #111)));\n",
       "    --sklearn-color-border-box: var(--sg-text-color, var(--theme-code-foreground, var(--jp-content-font-color1, white)));\n",
       "    --sklearn-color-icon: #878787;\n",
       "  }\n",
       "}\n",
       "\n",
       "#sk-container-id-8 {\n",
       "  color: var(--sklearn-color-text);\n",
       "}\n",
       "\n",
       "#sk-container-id-8 pre {\n",
       "  padding: 0;\n",
       "}\n",
       "\n",
       "#sk-container-id-8 input.sk-hidden--visually {\n",
       "  border: 0;\n",
       "  clip: rect(1px 1px 1px 1px);\n",
       "  clip: rect(1px, 1px, 1px, 1px);\n",
       "  height: 1px;\n",
       "  margin: -1px;\n",
       "  overflow: hidden;\n",
       "  padding: 0;\n",
       "  position: absolute;\n",
       "  width: 1px;\n",
       "}\n",
       "\n",
       "#sk-container-id-8 div.sk-dashed-wrapped {\n",
       "  border: 1px dashed var(--sklearn-color-line);\n",
       "  margin: 0 0.4em 0.5em 0.4em;\n",
       "  box-sizing: border-box;\n",
       "  padding-bottom: 0.4em;\n",
       "  background-color: var(--sklearn-color-background);\n",
       "}\n",
       "\n",
       "#sk-container-id-8 div.sk-container {\n",
       "  /* jupyter's `normalize.less` sets `[hidden] { display: none; }`\n",
       "     but bootstrap.min.css set `[hidden] { display: none !important; }`\n",
       "     so we also need the `!important` here to be able to override the\n",
       "     default hidden behavior on the sphinx rendered scikit-learn.org.\n",
       "     See: https://github.com/scikit-learn/scikit-learn/issues/21755 */\n",
       "  display: inline-block !important;\n",
       "  position: relative;\n",
       "}\n",
       "\n",
       "#sk-container-id-8 div.sk-text-repr-fallback {\n",
       "  display: none;\n",
       "}\n",
       "\n",
       "div.sk-parallel-item,\n",
       "div.sk-serial,\n",
       "div.sk-item {\n",
       "  /* draw centered vertical line to link estimators */\n",
       "  background-image: linear-gradient(var(--sklearn-color-text-on-default-background), var(--sklearn-color-text-on-default-background));\n",
       "  background-size: 2px 100%;\n",
       "  background-repeat: no-repeat;\n",
       "  background-position: center center;\n",
       "}\n",
       "\n",
       "/* Parallel-specific style estimator block */\n",
       "\n",
       "#sk-container-id-8 div.sk-parallel-item::after {\n",
       "  content: \"\";\n",
       "  width: 100%;\n",
       "  border-bottom: 2px solid var(--sklearn-color-text-on-default-background);\n",
       "  flex-grow: 1;\n",
       "}\n",
       "\n",
       "#sk-container-id-8 div.sk-parallel {\n",
       "  display: flex;\n",
       "  align-items: stretch;\n",
       "  justify-content: center;\n",
       "  background-color: var(--sklearn-color-background);\n",
       "  position: relative;\n",
       "}\n",
       "\n",
       "#sk-container-id-8 div.sk-parallel-item {\n",
       "  display: flex;\n",
       "  flex-direction: column;\n",
       "}\n",
       "\n",
       "#sk-container-id-8 div.sk-parallel-item:first-child::after {\n",
       "  align-self: flex-end;\n",
       "  width: 50%;\n",
       "}\n",
       "\n",
       "#sk-container-id-8 div.sk-parallel-item:last-child::after {\n",
       "  align-self: flex-start;\n",
       "  width: 50%;\n",
       "}\n",
       "\n",
       "#sk-container-id-8 div.sk-parallel-item:only-child::after {\n",
       "  width: 0;\n",
       "}\n",
       "\n",
       "/* Serial-specific style estimator block */\n",
       "\n",
       "#sk-container-id-8 div.sk-serial {\n",
       "  display: flex;\n",
       "  flex-direction: column;\n",
       "  align-items: center;\n",
       "  background-color: var(--sklearn-color-background);\n",
       "  padding-right: 1em;\n",
       "  padding-left: 1em;\n",
       "}\n",
       "\n",
       "\n",
       "/* Toggleable style: style used for estimator/Pipeline/ColumnTransformer box that is\n",
       "clickable and can be expanded/collapsed.\n",
       "- Pipeline and ColumnTransformer use this feature and define the default style\n",
       "- Estimators will overwrite some part of the style using the `sk-estimator` class\n",
       "*/\n",
       "\n",
       "/* Pipeline and ColumnTransformer style (default) */\n",
       "\n",
       "#sk-container-id-8 div.sk-toggleable {\n",
       "  /* Default theme specific background. It is overwritten whether we have a\n",
       "  specific estimator or a Pipeline/ColumnTransformer */\n",
       "  background-color: var(--sklearn-color-background);\n",
       "}\n",
       "\n",
       "/* Toggleable label */\n",
       "#sk-container-id-8 label.sk-toggleable__label {\n",
       "  cursor: pointer;\n",
       "  display: block;\n",
       "  width: 100%;\n",
       "  margin-bottom: 0;\n",
       "  padding: 0.5em;\n",
       "  box-sizing: border-box;\n",
       "  text-align: center;\n",
       "}\n",
       "\n",
       "#sk-container-id-8 label.sk-toggleable__label-arrow:before {\n",
       "  /* Arrow on the left of the label */\n",
       "  content: \"▸\";\n",
       "  float: left;\n",
       "  margin-right: 0.25em;\n",
       "  color: var(--sklearn-color-icon);\n",
       "}\n",
       "\n",
       "#sk-container-id-8 label.sk-toggleable__label-arrow:hover:before {\n",
       "  color: var(--sklearn-color-text);\n",
       "}\n",
       "\n",
       "/* Toggleable content - dropdown */\n",
       "\n",
       "#sk-container-id-8 div.sk-toggleable__content {\n",
       "  max-height: 0;\n",
       "  max-width: 0;\n",
       "  overflow: hidden;\n",
       "  text-align: left;\n",
       "  /* unfitted */\n",
       "  background-color: var(--sklearn-color-unfitted-level-0);\n",
       "}\n",
       "\n",
       "#sk-container-id-8 div.sk-toggleable__content.fitted {\n",
       "  /* fitted */\n",
       "  background-color: var(--sklearn-color-fitted-level-0);\n",
       "}\n",
       "\n",
       "#sk-container-id-8 div.sk-toggleable__content pre {\n",
       "  margin: 0.2em;\n",
       "  border-radius: 0.25em;\n",
       "  color: var(--sklearn-color-text);\n",
       "  /* unfitted */\n",
       "  background-color: var(--sklearn-color-unfitted-level-0);\n",
       "}\n",
       "\n",
       "#sk-container-id-8 div.sk-toggleable__content.fitted pre {\n",
       "  /* unfitted */\n",
       "  background-color: var(--sklearn-color-fitted-level-0);\n",
       "}\n",
       "\n",
       "#sk-container-id-8 input.sk-toggleable__control:checked~div.sk-toggleable__content {\n",
       "  /* Expand drop-down */\n",
       "  max-height: 200px;\n",
       "  max-width: 100%;\n",
       "  overflow: auto;\n",
       "}\n",
       "\n",
       "#sk-container-id-8 input.sk-toggleable__control:checked~label.sk-toggleable__label-arrow:before {\n",
       "  content: \"▾\";\n",
       "}\n",
       "\n",
       "/* Pipeline/ColumnTransformer-specific style */\n",
       "\n",
       "#sk-container-id-8 div.sk-label input.sk-toggleable__control:checked~label.sk-toggleable__label {\n",
       "  color: var(--sklearn-color-text);\n",
       "  background-color: var(--sklearn-color-unfitted-level-2);\n",
       "}\n",
       "\n",
       "#sk-container-id-8 div.sk-label.fitted input.sk-toggleable__control:checked~label.sk-toggleable__label {\n",
       "  background-color: var(--sklearn-color-fitted-level-2);\n",
       "}\n",
       "\n",
       "/* Estimator-specific style */\n",
       "\n",
       "/* Colorize estimator box */\n",
       "#sk-container-id-8 div.sk-estimator input.sk-toggleable__control:checked~label.sk-toggleable__label {\n",
       "  /* unfitted */\n",
       "  background-color: var(--sklearn-color-unfitted-level-2);\n",
       "}\n",
       "\n",
       "#sk-container-id-8 div.sk-estimator.fitted input.sk-toggleable__control:checked~label.sk-toggleable__label {\n",
       "  /* fitted */\n",
       "  background-color: var(--sklearn-color-fitted-level-2);\n",
       "}\n",
       "\n",
       "#sk-container-id-8 div.sk-label label.sk-toggleable__label,\n",
       "#sk-container-id-8 div.sk-label label {\n",
       "  /* The background is the default theme color */\n",
       "  color: var(--sklearn-color-text-on-default-background);\n",
       "}\n",
       "\n",
       "/* On hover, darken the color of the background */\n",
       "#sk-container-id-8 div.sk-label:hover label.sk-toggleable__label {\n",
       "  color: var(--sklearn-color-text);\n",
       "  background-color: var(--sklearn-color-unfitted-level-2);\n",
       "}\n",
       "\n",
       "/* Label box, darken color on hover, fitted */\n",
       "#sk-container-id-8 div.sk-label.fitted:hover label.sk-toggleable__label.fitted {\n",
       "  color: var(--sklearn-color-text);\n",
       "  background-color: var(--sklearn-color-fitted-level-2);\n",
       "}\n",
       "\n",
       "/* Estimator label */\n",
       "\n",
       "#sk-container-id-8 div.sk-label label {\n",
       "  font-family: monospace;\n",
       "  font-weight: bold;\n",
       "  display: inline-block;\n",
       "  line-height: 1.2em;\n",
       "}\n",
       "\n",
       "#sk-container-id-8 div.sk-label-container {\n",
       "  text-align: center;\n",
       "}\n",
       "\n",
       "/* Estimator-specific */\n",
       "#sk-container-id-8 div.sk-estimator {\n",
       "  font-family: monospace;\n",
       "  border: 1px dotted var(--sklearn-color-border-box);\n",
       "  border-radius: 0.25em;\n",
       "  box-sizing: border-box;\n",
       "  margin-bottom: 0.5em;\n",
       "  /* unfitted */\n",
       "  background-color: var(--sklearn-color-unfitted-level-0);\n",
       "}\n",
       "\n",
       "#sk-container-id-8 div.sk-estimator.fitted {\n",
       "  /* fitted */\n",
       "  background-color: var(--sklearn-color-fitted-level-0);\n",
       "}\n",
       "\n",
       "/* on hover */\n",
       "#sk-container-id-8 div.sk-estimator:hover {\n",
       "  /* unfitted */\n",
       "  background-color: var(--sklearn-color-unfitted-level-2);\n",
       "}\n",
       "\n",
       "#sk-container-id-8 div.sk-estimator.fitted:hover {\n",
       "  /* fitted */\n",
       "  background-color: var(--sklearn-color-fitted-level-2);\n",
       "}\n",
       "\n",
       "/* Specification for estimator info (e.g. \"i\" and \"?\") */\n",
       "\n",
       "/* Common style for \"i\" and \"?\" */\n",
       "\n",
       ".sk-estimator-doc-link,\n",
       "a:link.sk-estimator-doc-link,\n",
       "a:visited.sk-estimator-doc-link {\n",
       "  float: right;\n",
       "  font-size: smaller;\n",
       "  line-height: 1em;\n",
       "  font-family: monospace;\n",
       "  background-color: var(--sklearn-color-background);\n",
       "  border-radius: 1em;\n",
       "  height: 1em;\n",
       "  width: 1em;\n",
       "  text-decoration: none !important;\n",
       "  margin-left: 1ex;\n",
       "  /* unfitted */\n",
       "  border: var(--sklearn-color-unfitted-level-1) 1pt solid;\n",
       "  color: var(--sklearn-color-unfitted-level-1);\n",
       "}\n",
       "\n",
       ".sk-estimator-doc-link.fitted,\n",
       "a:link.sk-estimator-doc-link.fitted,\n",
       "a:visited.sk-estimator-doc-link.fitted {\n",
       "  /* fitted */\n",
       "  border: var(--sklearn-color-fitted-level-1) 1pt solid;\n",
       "  color: var(--sklearn-color-fitted-level-1);\n",
       "}\n",
       "\n",
       "/* On hover */\n",
       "div.sk-estimator:hover .sk-estimator-doc-link:hover,\n",
       ".sk-estimator-doc-link:hover,\n",
       "div.sk-label-container:hover .sk-estimator-doc-link:hover,\n",
       ".sk-estimator-doc-link:hover {\n",
       "  /* unfitted */\n",
       "  background-color: var(--sklearn-color-unfitted-level-3);\n",
       "  color: var(--sklearn-color-background);\n",
       "  text-decoration: none;\n",
       "}\n",
       "\n",
       "div.sk-estimator.fitted:hover .sk-estimator-doc-link.fitted:hover,\n",
       ".sk-estimator-doc-link.fitted:hover,\n",
       "div.sk-label-container:hover .sk-estimator-doc-link.fitted:hover,\n",
       ".sk-estimator-doc-link.fitted:hover {\n",
       "  /* fitted */\n",
       "  background-color: var(--sklearn-color-fitted-level-3);\n",
       "  color: var(--sklearn-color-background);\n",
       "  text-decoration: none;\n",
       "}\n",
       "\n",
       "/* Span, style for the box shown on hovering the info icon */\n",
       ".sk-estimator-doc-link span {\n",
       "  display: none;\n",
       "  z-index: 9999;\n",
       "  position: relative;\n",
       "  font-weight: normal;\n",
       "  right: .2ex;\n",
       "  padding: .5ex;\n",
       "  margin: .5ex;\n",
       "  width: min-content;\n",
       "  min-width: 20ex;\n",
       "  max-width: 50ex;\n",
       "  color: var(--sklearn-color-text);\n",
       "  box-shadow: 2pt 2pt 4pt #999;\n",
       "  /* unfitted */\n",
       "  background: var(--sklearn-color-unfitted-level-0);\n",
       "  border: .5pt solid var(--sklearn-color-unfitted-level-3);\n",
       "}\n",
       "\n",
       ".sk-estimator-doc-link.fitted span {\n",
       "  /* fitted */\n",
       "  background: var(--sklearn-color-fitted-level-0);\n",
       "  border: var(--sklearn-color-fitted-level-3);\n",
       "}\n",
       "\n",
       ".sk-estimator-doc-link:hover span {\n",
       "  display: block;\n",
       "}\n",
       "\n",
       "/* \"?\"-specific style due to the `<a>` HTML tag */\n",
       "\n",
       "#sk-container-id-8 a.estimator_doc_link {\n",
       "  float: right;\n",
       "  font-size: 1rem;\n",
       "  line-height: 1em;\n",
       "  font-family: monospace;\n",
       "  background-color: var(--sklearn-color-background);\n",
       "  border-radius: 1rem;\n",
       "  height: 1rem;\n",
       "  width: 1rem;\n",
       "  text-decoration: none;\n",
       "  /* unfitted */\n",
       "  color: var(--sklearn-color-unfitted-level-1);\n",
       "  border: var(--sklearn-color-unfitted-level-1) 1pt solid;\n",
       "}\n",
       "\n",
       "#sk-container-id-8 a.estimator_doc_link.fitted {\n",
       "  /* fitted */\n",
       "  border: var(--sklearn-color-fitted-level-1) 1pt solid;\n",
       "  color: var(--sklearn-color-fitted-level-1);\n",
       "}\n",
       "\n",
       "/* On hover */\n",
       "#sk-container-id-8 a.estimator_doc_link:hover {\n",
       "  /* unfitted */\n",
       "  background-color: var(--sklearn-color-unfitted-level-3);\n",
       "  color: var(--sklearn-color-background);\n",
       "  text-decoration: none;\n",
       "}\n",
       "\n",
       "#sk-container-id-8 a.estimator_doc_link.fitted:hover {\n",
       "  /* fitted */\n",
       "  background-color: var(--sklearn-color-fitted-level-3);\n",
       "}\n",
       "</style><div id=\"sk-container-id-8\" class=\"sk-top-container\"><div class=\"sk-text-repr-fallback\"><pre>LinearRegression()</pre><b>In a Jupyter environment, please rerun this cell to show the HTML representation or trust the notebook. <br />On GitHub, the HTML representation is unable to render, please try loading this page with nbviewer.org.</b></div><div class=\"sk-container\" hidden><div class=\"sk-item\"><div class=\"sk-estimator fitted sk-toggleable\"><input class=\"sk-toggleable__control sk-hidden--visually\" id=\"sk-estimator-id-8\" type=\"checkbox\" checked><label for=\"sk-estimator-id-8\" class=\"sk-toggleable__label fitted sk-toggleable__label-arrow fitted\">&nbsp;&nbsp;LinearRegression<a class=\"sk-estimator-doc-link fitted\" rel=\"noreferrer\" target=\"_blank\" href=\"https://scikit-learn.org/1.5/modules/generated/sklearn.linear_model.LinearRegression.html\">?<span>Documentation for LinearRegression</span></a><span class=\"sk-estimator-doc-link fitted\">i<span>Fitted</span></span></label><div class=\"sk-toggleable__content fitted\"><pre>LinearRegression()</pre></div> </div></div></div></div>"
      ],
      "text/plain": [
       "LinearRegression()"
      ]
     },
     "execution_count": 326,
     "metadata": {},
     "output_type": "execute_result"
    }
   ],
   "source": [
    "model.fit(X_train, y_train)"
   ]
  },
  {
   "cell_type": "markdown",
   "metadata": {},
   "source": [
    "### Step 7: Model Evaluation"
   ]
  },
  {
   "cell_type": "markdown",
   "metadata": {},
   "source": [
    "#### Make predictions on the test set"
   ]
  },
  {
   "cell_type": "markdown",
   "metadata": {},
   "source": [
    "### Inference"
   ]
  },
  {
   "cell_type": "code",
   "execution_count": 327,
   "metadata": {},
   "outputs": [
    {
     "data": {
      "text/plain": [
       "array([4.42761668, 1.40627666, 7.0548404 , 3.66666445, 5.17150862,\n",
       "       0.98907525, 4.66482023, 6.13554383, 3.80549299, 4.70455795,\n",
       "       5.33342228, 1.41618862, 1.42436086, 1.42436086, 1.74359495,\n",
       "       3.20717022, 5.03124848, 4.59627098, 4.53201653, 5.81630975,\n",
       "       1.49750335, 5.56245359, 1.53019232, 5.66930897, 5.39379929,\n",
       "       6.0535133 , 5.44099345, 6.0549449 , 1.25927588, 2.03759651])"
      ]
     },
     "execution_count": 327,
     "metadata": {},
     "output_type": "execute_result"
    }
   ],
   "source": [
    "y_pred = model.predict(X_test)\n",
    "y_pred"
   ]
  },
  {
   "cell_type": "code",
   "execution_count": 328,
   "metadata": {},
   "outputs": [
    {
     "data": {
      "text/plain": [
       "74     4.3\n",
       "19     1.5\n",
       "118    6.9\n",
       "79     3.5\n",
       "77     5.0\n",
       "32     1.5\n",
       "65     4.4\n",
       "141    5.1\n",
       "69     3.9\n",
       "83     5.1\n",
       "110    5.1\n",
       "12     1.4\n",
       "37     1.5\n",
       "9      1.5\n",
       "20     1.7\n",
       "57     3.3\n",
       "137    5.5\n",
       "70     4.8\n",
       "56     4.7\n",
       "132    5.6\n",
       "30     1.6\n",
       "124    5.7\n",
       "27     1.5\n",
       "128    5.6\n",
       "129    5.8\n",
       "145    5.2\n",
       "111    5.3\n",
       "102    5.9\n",
       "46     1.6\n",
       "31     1.5\n",
       "Name: petal_length, dtype: float64"
      ]
     },
     "execution_count": 328,
     "metadata": {},
     "output_type": "execute_result"
    }
   ],
   "source": [
    "y_test "
   ]
  },
  {
   "cell_type": "markdown",
   "metadata": {},
   "source": [
    "### Evaluation Metrics\n",
    "#### Calculate R-squared (coefficient of determination)"
   ]
  },
  {
   "cell_type": "code",
   "execution_count": 329,
   "metadata": {},
   "outputs": [
    {
     "data": {
      "text/plain": [
       "0.963879589937206"
      ]
     },
     "execution_count": 329,
     "metadata": {},
     "output_type": "execute_result"
    }
   ],
   "source": [
    "r2 = r2_score(y_test, y_pred)\n",
    "r2"
   ]
  },
  {
   "cell_type": "markdown",
   "metadata": {},
   "source": [
    "### Adjusted R-Squared"
   ]
  },
  {
   "cell_type": "code",
   "execution_count": 330,
   "metadata": {},
   "outputs": [
    {
     "data": {
      "text/plain": [
       "3"
      ]
     },
     "execution_count": 330,
     "metadata": {},
     "output_type": "execute_result"
    }
   ],
   "source": [
    "k = X_test.shape[1]\n",
    "k"
   ]
  },
  {
   "cell_type": "code",
   "execution_count": 331,
   "metadata": {},
   "outputs": [
    {
     "data": {
      "text/plain": [
       "30"
      ]
     },
     "execution_count": 331,
     "metadata": {},
     "output_type": "execute_result"
    }
   ],
   "source": [
    "n = X_test.shape[0]\n",
    "n"
   ]
  },
  {
   "cell_type": "code",
   "execution_count": 332,
   "metadata": {},
   "outputs": [
    {
     "data": {
      "text/plain": [
       "0.959711850314576"
      ]
     },
     "execution_count": 332,
     "metadata": {},
     "output_type": "execute_result"
    }
   ],
   "source": [
    "adj_r2 = 1-(1-r2)*(n-1)/(n-k-1)\n",
    "adj_r2 "
   ]
  },
  {
   "cell_type": "markdown",
   "metadata": {},
   "source": [
    "#### Calculate Mean Squared Error (MSE)"
   ]
  },
  {
   "cell_type": "code",
   "execution_count": 333,
   "metadata": {},
   "outputs": [],
   "source": [
    "mse = mean_squared_error(y_test, y_pred)"
   ]
  },
  {
   "cell_type": "markdown",
   "metadata": {},
   "source": [
    "#### Display the evaluation metrics"
   ]
  },
  {
   "cell_type": "code",
   "execution_count": 334,
   "metadata": {},
   "outputs": [
    {
     "name": "stdout",
     "output_type": "stream",
     "text": [
      "R-squared: 0.96\n",
      "Mean Squared Error: 0.12\n"
     ]
    }
   ],
   "source": [
    "print(f'R-squared: {r2:.2f}')\n",
    "print(f'Mean Squared Error: {mse:.2f}')"
   ]
  },
  {
   "cell_type": "markdown",
   "metadata": {},
   "source": [
    "### Step 8: Interpretation\n",
    "#### Get the coefficients of the model"
   ]
  },
  {
   "cell_type": "code",
   "execution_count": 335,
   "metadata": {},
   "outputs": [],
   "source": [
    "coefficients = model.coef_"
   ]
  },
  {
   "cell_type": "markdown",
   "metadata": {},
   "source": [
    "#### Coefficients Display with corresponding feature names"
   ]
  },
  {
   "cell_type": "code",
   "execution_count": 336,
   "metadata": {},
   "outputs": [
    {
     "name": "stdout",
     "output_type": "stream",
     "text": [
      "Coefficient for sepal_length: 0.61\n",
      "Coefficient for sepal_width: -0.28\n",
      "Coefficient for petal_width: 1.12\n"
     ]
    }
   ],
   "source": [
    "for feature, coef in zip(['sepal_length', 'sepal_width', 'petal_width'], coefficients):\n",
    "    print(f'Coefficient for {feature}: {coef:.2f}')"
   ]
  },
  {
   "cell_type": "markdown",
   "metadata": {},
   "source": [
    "### Step 9: Visualization\n",
    "#### Pairplot to visualize relationships between features"
   ]
  },
  {
   "cell_type": "code",
   "execution_count": 337,
   "metadata": {},
   "outputs": [
    {
     "data": {
      "image/png": "[encoded data removed]",
      "text/plain": [
       "<Figure size 1800x500 with 3 Axes>"
      ]
     },
     "metadata": {},
     "output_type": "display_data"
    }
   ],
   "source": [
    "import matplotlib.pyplot as plt\n",
    "import seaborn as sns\n",
    "\n",
    "# Create a figure with subplots for each feature vs. petal length\n",
    "fig, axes = plt.subplots(1, 3, figsize=(18, 5))\n",
    "\n",
    "# Scatter plot for Sepal Length vs. Petal Length\n",
    "sns.scatterplot(x='sepal_length', y='petal_length', data=iris_data, ax=axes[0], color=\"blue\")\n",
    "sns.regplot(x='sepal_length', y='petal_length', data=iris_data, ax=axes[0], scatter=False, color=\"blue\")\n",
    "axes[0].set_title('Sepal Length vs. Petal Length')\n",
    "\n",
    "# Scatter plot for Sepal Width vs. Petal Length\n",
    "sns.scatterplot(x='sepal_width', y='petal_length', data=iris_data, ax=axes[1], color=\"green\")\n",
    "sns.regplot(x='sepal_width', y='petal_length', data=iris_data, ax=axes[1], scatter=False, color=\"green\")\n",
    "axes[1].set_title('Sepal Width vs. Petal Length')\n",
    "\n",
    "# Scatter plot for Petal Width vs. Petal Length\n",
    "sns.scatterplot(x='petal_width', y='petal_length', data=iris_data, ax=axes[2], color=\"purple\")\n",
    "sns.regplot(x='petal_width', y='petal_length', data=iris_data, ax=axes[2], scatter=False, color=\"purple\")\n",
    "axes[2].set_title('Petal Width vs. Petal Length')\n",
    "\n",
    "# Display the plots\n",
    "plt.suptitle('Visual Representation of Petal Length as Dependent Variable', fontsize=16)\n",
    "plt.tight_layout()\n",
    "plt.show()\n"
   ]
  }
 ],
 "metadata": {
  "kernelspec": {
   "display_name": "Python 3",
   "language": "python",
   "name": "python3"
  },
  "language_info": {
   "codemirror_mode": {
    "name": "ipython",
    "version": 3
   },
   "file_extension": ".py",
   "mimetype": "text/x-python",
   "name": "python",
   "nbconvert_exporter": "python",
   "pygments_lexer": "ipython3",
   "version": "3.12.6"
  }
 },
 "nbformat": 4,
 "nbformat_minor": 2
}
